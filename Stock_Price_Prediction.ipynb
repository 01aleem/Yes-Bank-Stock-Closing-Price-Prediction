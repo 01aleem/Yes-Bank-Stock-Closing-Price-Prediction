{
  "nbformat": 4,
  "nbformat_minor": 0,
  "metadata": {
    "colab": {
      "name": "Stock_Price_Prediction.ipynb",
      "provenance": [],
      "mount_file_id": "1Ad7Urf1Jbwd9h6Cw1CbCzpHR3AJovszV",
      "authorship_tag": "ABX9TyN1sf9TrvwjoN0dmp1xlPJh",
      "include_colab_link": true
    },
    "kernelspec": {
      "name": "python3",
      "display_name": "Python 3"
    },
    "language_info": {
      "name": "python"
    }
  },
  "cells": [
    {
      "cell_type": "markdown",
      "metadata": {
        "id": "view-in-github",
        "colab_type": "text"
      },
      "source": [
        "<a href=\"https://colab.research.google.com/github/01aleem/Yes-Bank-Stock-Closing-Price-Prediction/blob/main/Stock_Price_Prediction.ipynb\" target=\"_parent\"><img src=\"https://colab.research.google.com/assets/colab-badge.svg\" alt=\"Open In Colab\"/></a>"
      ]
    },
    {
      "cell_type": "code",
      "metadata": {
        "id": "aNxJGcD5uAi_"
      },
      "source": [
        "import pandas as pd\n",
        "import numpy as np\n",
        "from sklearn.linear_model import LinearRegression\n",
        "from sklearn.tree import DecisionTreeRegressor\n",
        "from sklearn.ensemble import RandomForestRegressor\n",
        "from sklearn.model_selection import train_test_split\n",
        "from sklearn.metrics import r2_score,mean_absolute_error,mean_squared_error\n",
        "from sklearn.preprocessing import MinMaxScaler\n",
        "\n",
        "import seaborn as sns\n",
        "import matplotlib.pyplot as plt\n",
        "plt.style.use('bmh')\n",
        "import warnings\n",
        "warnings.filterwarnings('ignore')"
      ],
      "execution_count": null,
      "outputs": []
    },
    {
      "cell_type": "code",
      "metadata": {
        "colab": {
          "base_uri": "https://localhost:8080/"
        },
        "id": "VY278ZkBuNpK",
        "outputId": "dfb9b5a5-7539-48a0-db53-ce5b35550bfe"
      },
      "source": [
        "from google.colab import drive\n",
        "drive.mount('/content/drive')"
      ],
      "execution_count": null,
      "outputs": [
        {
          "output_type": "stream",
          "name": "stdout",
          "text": [
            "Drive already mounted at /content/drive; to attempt to forcibly remount, call drive.mount(\"/content/drive\", force_remount=True).\n"
          ]
        }
      ]
    },
    {
      "cell_type": "code",
      "metadata": {
        "id": "eM0y3_ErthjW"
      },
      "source": [
        "df = pd.read_csv('/content/drive/MyDrive/Colab Notebooks/AlmaBetter/Capstone Projects/Capstone 2- Regression/Yes Bank Stock Closing Price Prediction/data_YesBank_StockPrices.csv')\n"
      ],
      "execution_count": null,
      "outputs": []
    },
    {
      "cell_type": "code",
      "metadata": {
        "colab": {
          "base_uri": "https://localhost:8080/",
          "height": 203
        },
        "id": "2MaahWHSt-rB",
        "outputId": "762839fb-37a7-4cc3-ae2b-844d6e89d771"
      },
      "source": [
        "df.head()"
      ],
      "execution_count": null,
      "outputs": [
        {
          "output_type": "execute_result",
          "data": {
            "text/html": [
              "<div>\n",
              "<style scoped>\n",
              "    .dataframe tbody tr th:only-of-type {\n",
              "        vertical-align: middle;\n",
              "    }\n",
              "\n",
              "    .dataframe tbody tr th {\n",
              "        vertical-align: top;\n",
              "    }\n",
              "\n",
              "    .dataframe thead th {\n",
              "        text-align: right;\n",
              "    }\n",
              "</style>\n",
              "<table border=\"1\" class=\"dataframe\">\n",
              "  <thead>\n",
              "    <tr style=\"text-align: right;\">\n",
              "      <th></th>\n",
              "      <th>Date</th>\n",
              "      <th>Open</th>\n",
              "      <th>High</th>\n",
              "      <th>Low</th>\n",
              "      <th>Close</th>\n",
              "    </tr>\n",
              "  </thead>\n",
              "  <tbody>\n",
              "    <tr>\n",
              "      <th>0</th>\n",
              "      <td>Jul-05</td>\n",
              "      <td>13.00</td>\n",
              "      <td>14.00</td>\n",
              "      <td>11.25</td>\n",
              "      <td>12.46</td>\n",
              "    </tr>\n",
              "    <tr>\n",
              "      <th>1</th>\n",
              "      <td>Aug-05</td>\n",
              "      <td>12.58</td>\n",
              "      <td>14.88</td>\n",
              "      <td>12.55</td>\n",
              "      <td>13.42</td>\n",
              "    </tr>\n",
              "    <tr>\n",
              "      <th>2</th>\n",
              "      <td>Sep-05</td>\n",
              "      <td>13.48</td>\n",
              "      <td>14.87</td>\n",
              "      <td>12.27</td>\n",
              "      <td>13.30</td>\n",
              "    </tr>\n",
              "    <tr>\n",
              "      <th>3</th>\n",
              "      <td>Oct-05</td>\n",
              "      <td>13.20</td>\n",
              "      <td>14.47</td>\n",
              "      <td>12.40</td>\n",
              "      <td>12.99</td>\n",
              "    </tr>\n",
              "    <tr>\n",
              "      <th>4</th>\n",
              "      <td>Nov-05</td>\n",
              "      <td>13.35</td>\n",
              "      <td>13.88</td>\n",
              "      <td>12.88</td>\n",
              "      <td>13.41</td>\n",
              "    </tr>\n",
              "  </tbody>\n",
              "</table>\n",
              "</div>"
            ],
            "text/plain": [
              "     Date   Open   High    Low  Close\n",
              "0  Jul-05  13.00  14.00  11.25  12.46\n",
              "1  Aug-05  12.58  14.88  12.55  13.42\n",
              "2  Sep-05  13.48  14.87  12.27  13.30\n",
              "3  Oct-05  13.20  14.47  12.40  12.99\n",
              "4  Nov-05  13.35  13.88  12.88  13.41"
            ]
          },
          "metadata": {},
          "execution_count": 4
        }
      ]
    },
    {
      "cell_type": "code",
      "metadata": {
        "colab": {
          "base_uri": "https://localhost:8080/"
        },
        "id": "cfsDaAFOuy2z",
        "outputId": "b7c45445-32f7-4db4-ceef-db87e8565368"
      },
      "source": [
        "df.shape"
      ],
      "execution_count": null,
      "outputs": [
        {
          "output_type": "execute_result",
          "data": {
            "text/plain": [
              "(185, 5)"
            ]
          },
          "metadata": {},
          "execution_count": 5
        }
      ]
    },
    {
      "cell_type": "code",
      "metadata": {
        "colab": {
          "base_uri": "https://localhost:8080/"
        },
        "id": "z2vLSiTVecj9",
        "outputId": "b553c00a-cac1-4db5-80b0-39fb32dd03c8"
      },
      "source": [
        "df.duplicated().sum()"
      ],
      "execution_count": null,
      "outputs": [
        {
          "output_type": "execute_result",
          "data": {
            "text/plain": [
              "0"
            ]
          },
          "metadata": {},
          "execution_count": 6
        }
      ]
    },
    {
      "cell_type": "code",
      "metadata": {
        "colab": {
          "base_uri": "https://localhost:8080/"
        },
        "id": "XbmVGWT_ef4Y",
        "outputId": "eba7303c-7102-493b-c218-7bef86ab758d"
      },
      "source": [
        "df.info()"
      ],
      "execution_count": null,
      "outputs": [
        {
          "output_type": "stream",
          "name": "stdout",
          "text": [
            "<class 'pandas.core.frame.DataFrame'>\n",
            "RangeIndex: 185 entries, 0 to 184\n",
            "Data columns (total 5 columns):\n",
            " #   Column  Non-Null Count  Dtype  \n",
            "---  ------  --------------  -----  \n",
            " 0   Date    185 non-null    object \n",
            " 1   Open    185 non-null    float64\n",
            " 2   High    185 non-null    float64\n",
            " 3   Low     185 non-null    float64\n",
            " 4   Close   185 non-null    float64\n",
            "dtypes: float64(4), object(1)\n",
            "memory usage: 7.4+ KB\n"
          ]
        }
      ]
    },
    {
      "cell_type": "code",
      "metadata": {
        "colab": {
          "base_uri": "https://localhost:8080/",
          "height": 388
        },
        "id": "IUkMGHlYemhh",
        "outputId": "190ae2a3-0ea2-4610-97a4-a937f2c1cc07"
      },
      "source": [
        "df.describe(include = 'all')"
      ],
      "execution_count": null,
      "outputs": [
        {
          "output_type": "execute_result",
          "data": {
            "text/html": [
              "<div>\n",
              "<style scoped>\n",
              "    .dataframe tbody tr th:only-of-type {\n",
              "        vertical-align: middle;\n",
              "    }\n",
              "\n",
              "    .dataframe tbody tr th {\n",
              "        vertical-align: top;\n",
              "    }\n",
              "\n",
              "    .dataframe thead th {\n",
              "        text-align: right;\n",
              "    }\n",
              "</style>\n",
              "<table border=\"1\" class=\"dataframe\">\n",
              "  <thead>\n",
              "    <tr style=\"text-align: right;\">\n",
              "      <th></th>\n",
              "      <th>Date</th>\n",
              "      <th>Open</th>\n",
              "      <th>High</th>\n",
              "      <th>Low</th>\n",
              "      <th>Close</th>\n",
              "    </tr>\n",
              "  </thead>\n",
              "  <tbody>\n",
              "    <tr>\n",
              "      <th>count</th>\n",
              "      <td>185</td>\n",
              "      <td>185.000000</td>\n",
              "      <td>185.000000</td>\n",
              "      <td>185.000000</td>\n",
              "      <td>185.000000</td>\n",
              "    </tr>\n",
              "    <tr>\n",
              "      <th>unique</th>\n",
              "      <td>185</td>\n",
              "      <td>NaN</td>\n",
              "      <td>NaN</td>\n",
              "      <td>NaN</td>\n",
              "      <td>NaN</td>\n",
              "    </tr>\n",
              "    <tr>\n",
              "      <th>top</th>\n",
              "      <td>Jul-09</td>\n",
              "      <td>NaN</td>\n",
              "      <td>NaN</td>\n",
              "      <td>NaN</td>\n",
              "      <td>NaN</td>\n",
              "    </tr>\n",
              "    <tr>\n",
              "      <th>freq</th>\n",
              "      <td>1</td>\n",
              "      <td>NaN</td>\n",
              "      <td>NaN</td>\n",
              "      <td>NaN</td>\n",
              "      <td>NaN</td>\n",
              "    </tr>\n",
              "    <tr>\n",
              "      <th>mean</th>\n",
              "      <td>NaN</td>\n",
              "      <td>105.541405</td>\n",
              "      <td>116.104324</td>\n",
              "      <td>94.947838</td>\n",
              "      <td>105.204703</td>\n",
              "    </tr>\n",
              "    <tr>\n",
              "      <th>std</th>\n",
              "      <td>NaN</td>\n",
              "      <td>98.879850</td>\n",
              "      <td>106.333497</td>\n",
              "      <td>91.219415</td>\n",
              "      <td>98.583153</td>\n",
              "    </tr>\n",
              "    <tr>\n",
              "      <th>min</th>\n",
              "      <td>NaN</td>\n",
              "      <td>10.000000</td>\n",
              "      <td>11.240000</td>\n",
              "      <td>5.550000</td>\n",
              "      <td>9.980000</td>\n",
              "    </tr>\n",
              "    <tr>\n",
              "      <th>25%</th>\n",
              "      <td>NaN</td>\n",
              "      <td>33.800000</td>\n",
              "      <td>36.140000</td>\n",
              "      <td>28.510000</td>\n",
              "      <td>33.450000</td>\n",
              "    </tr>\n",
              "    <tr>\n",
              "      <th>50%</th>\n",
              "      <td>NaN</td>\n",
              "      <td>62.980000</td>\n",
              "      <td>72.550000</td>\n",
              "      <td>58.000000</td>\n",
              "      <td>62.540000</td>\n",
              "    </tr>\n",
              "    <tr>\n",
              "      <th>75%</th>\n",
              "      <td>NaN</td>\n",
              "      <td>153.000000</td>\n",
              "      <td>169.190000</td>\n",
              "      <td>138.350000</td>\n",
              "      <td>153.300000</td>\n",
              "    </tr>\n",
              "    <tr>\n",
              "      <th>max</th>\n",
              "      <td>NaN</td>\n",
              "      <td>369.950000</td>\n",
              "      <td>404.000000</td>\n",
              "      <td>345.500000</td>\n",
              "      <td>367.900000</td>\n",
              "    </tr>\n",
              "  </tbody>\n",
              "</table>\n",
              "</div>"
            ],
            "text/plain": [
              "          Date        Open        High         Low       Close\n",
              "count      185  185.000000  185.000000  185.000000  185.000000\n",
              "unique     185         NaN         NaN         NaN         NaN\n",
              "top     Jul-09         NaN         NaN         NaN         NaN\n",
              "freq         1         NaN         NaN         NaN         NaN\n",
              "mean       NaN  105.541405  116.104324   94.947838  105.204703\n",
              "std        NaN   98.879850  106.333497   91.219415   98.583153\n",
              "min        NaN   10.000000   11.240000    5.550000    9.980000\n",
              "25%        NaN   33.800000   36.140000   28.510000   33.450000\n",
              "50%        NaN   62.980000   72.550000   58.000000   62.540000\n",
              "75%        NaN  153.000000  169.190000  138.350000  153.300000\n",
              "max        NaN  369.950000  404.000000  345.500000  367.900000"
            ]
          },
          "metadata": {},
          "execution_count": 8
        }
      ]
    },
    {
      "cell_type": "code",
      "metadata": {
        "colab": {
          "base_uri": "https://localhost:8080/"
        },
        "id": "MB2JxP2xeqA8",
        "outputId": "3ee85f24-e6e0-48b7-a113-e7b4bf4611c8"
      },
      "source": [
        "df.isnull().sum()"
      ],
      "execution_count": null,
      "outputs": [
        {
          "output_type": "execute_result",
          "data": {
            "text/plain": [
              "Date     0\n",
              "Open     0\n",
              "High     0\n",
              "Low      0\n",
              "Close    0\n",
              "dtype: int64"
            ]
          },
          "metadata": {},
          "execution_count": 9
        }
      ]
    },
    {
      "cell_type": "code",
      "metadata": {
        "colab": {
          "base_uri": "https://localhost:8080/",
          "height": 172
        },
        "id": "ciOosZbze3zL",
        "outputId": "10284f53-ad4c-4f93-a96f-9dec296325d1"
      },
      "source": [
        "df.corr()"
      ],
      "execution_count": null,
      "outputs": [
        {
          "output_type": "execute_result",
          "data": {
            "text/html": [
              "<div>\n",
              "<style scoped>\n",
              "    .dataframe tbody tr th:only-of-type {\n",
              "        vertical-align: middle;\n",
              "    }\n",
              "\n",
              "    .dataframe tbody tr th {\n",
              "        vertical-align: top;\n",
              "    }\n",
              "\n",
              "    .dataframe thead th {\n",
              "        text-align: right;\n",
              "    }\n",
              "</style>\n",
              "<table border=\"1\" class=\"dataframe\">\n",
              "  <thead>\n",
              "    <tr style=\"text-align: right;\">\n",
              "      <th></th>\n",
              "      <th>Open</th>\n",
              "      <th>High</th>\n",
              "      <th>Low</th>\n",
              "      <th>Close</th>\n",
              "    </tr>\n",
              "  </thead>\n",
              "  <tbody>\n",
              "    <tr>\n",
              "      <th>Open</th>\n",
              "      <td>1.000000</td>\n",
              "      <td>0.993040</td>\n",
              "      <td>0.983978</td>\n",
              "      <td>0.977971</td>\n",
              "    </tr>\n",
              "    <tr>\n",
              "      <th>High</th>\n",
              "      <td>0.993040</td>\n",
              "      <td>1.000000</td>\n",
              "      <td>0.983422</td>\n",
              "      <td>0.985051</td>\n",
              "    </tr>\n",
              "    <tr>\n",
              "      <th>Low</th>\n",
              "      <td>0.983978</td>\n",
              "      <td>0.983422</td>\n",
              "      <td>1.000000</td>\n",
              "      <td>0.995358</td>\n",
              "    </tr>\n",
              "    <tr>\n",
              "      <th>Close</th>\n",
              "      <td>0.977971</td>\n",
              "      <td>0.985051</td>\n",
              "      <td>0.995358</td>\n",
              "      <td>1.000000</td>\n",
              "    </tr>\n",
              "  </tbody>\n",
              "</table>\n",
              "</div>"
            ],
            "text/plain": [
              "           Open      High       Low     Close\n",
              "Open   1.000000  0.993040  0.983978  0.977971\n",
              "High   0.993040  1.000000  0.983422  0.985051\n",
              "Low    0.983978  0.983422  1.000000  0.995358\n",
              "Close  0.977971  0.985051  0.995358  1.000000"
            ]
          },
          "metadata": {},
          "execution_count": 10
        }
      ]
    },
    {
      "cell_type": "code",
      "metadata": {
        "colab": {
          "base_uri": "https://localhost:8080/"
        },
        "id": "ITRW7fqRe68e",
        "outputId": "61baa98a-f58b-4d77-e028-febcf219c73a"
      },
      "source": [
        "df.corrwith(df.Close)"
      ],
      "execution_count": null,
      "outputs": [
        {
          "output_type": "execute_result",
          "data": {
            "text/plain": [
              "Open     0.977971\n",
              "High     0.985051\n",
              "Low      0.995358\n",
              "Close    1.000000\n",
              "dtype: float64"
            ]
          },
          "metadata": {},
          "execution_count": 11
        }
      ]
    },
    {
      "cell_type": "code",
      "metadata": {
        "colab": {
          "base_uri": "https://localhost:8080/",
          "height": 513
        },
        "id": "qCVVo6hCXG0y",
        "outputId": "021495a2-f625-4b54-b7d5-c278be057b09"
      },
      "source": [
        "# Visualize the close price\n",
        "\n",
        "plt.figure(figsize = (16, 8))\n",
        "plt.title('Yes Bank')\n",
        "plt.xlabel('Months')\n",
        "plt.ylabel('Close Price')\n",
        "plt.plot(df['Close'])\n",
        "plt.show()"
      ],
      "execution_count": null,
      "outputs": [
        {
          "output_type": "display_data",
          "data": {
            "image/png": "[encoded data removed]",
            "text/plain": [
              "<Figure size 1152x576 with 1 Axes>"
            ]
          },
          "metadata": {
            "needs_background": "light"
          }
        }
      ]
    },
    {
      "cell_type": "code",
      "metadata": {
        "colab": {
          "base_uri": "https://localhost:8080/",
          "height": 203
        },
        "id": "Jc6oGui8oR34",
        "outputId": "8f9b7a3b-762f-43f2-d8ef-5a3174b82c7c"
      },
      "source": [
        "# Get close price\n",
        "\n",
        "df = df[['Close']]\n",
        "df.head()"
      ],
      "execution_count": null,
      "outputs": [
        {
          "output_type": "execute_result",
          "data": {
            "text/html": [
              "<div>\n",
              "<style scoped>\n",
              "    .dataframe tbody tr th:only-of-type {\n",
              "        vertical-align: middle;\n",
              "    }\n",
              "\n",
              "    .dataframe tbody tr th {\n",
              "        vertical-align: top;\n",
              "    }\n",
              "\n",
              "    .dataframe thead th {\n",
              "        text-align: right;\n",
              "    }\n",
              "</style>\n",
              "<table border=\"1\" class=\"dataframe\">\n",
              "  <thead>\n",
              "    <tr style=\"text-align: right;\">\n",
              "      <th></th>\n",
              "      <th>Close</th>\n",
              "    </tr>\n",
              "  </thead>\n",
              "  <tbody>\n",
              "    <tr>\n",
              "      <th>0</th>\n",
              "      <td>12.46</td>\n",
              "    </tr>\n",
              "    <tr>\n",
              "      <th>1</th>\n",
              "      <td>13.42</td>\n",
              "    </tr>\n",
              "    <tr>\n",
              "      <th>2</th>\n",
              "      <td>13.30</td>\n",
              "    </tr>\n",
              "    <tr>\n",
              "      <th>3</th>\n",
              "      <td>12.99</td>\n",
              "    </tr>\n",
              "    <tr>\n",
              "      <th>4</th>\n",
              "      <td>13.41</td>\n",
              "    </tr>\n",
              "  </tbody>\n",
              "</table>\n",
              "</div>"
            ],
            "text/plain": [
              "   Close\n",
              "0  12.46\n",
              "1  13.42\n",
              "2  13.30\n",
              "3  12.99\n",
              "4  13.41"
            ]
          },
          "metadata": {},
          "execution_count": 13
        }
      ]
    },
    {
      "cell_type": "code",
      "metadata": {
        "colab": {
          "base_uri": "https://localhost:8080/",
          "height": 973
        },
        "id": "cr7CwL_ooz3-",
        "outputId": "b42ff3be-e98e-451d-aa8b-c34acac7dd28"
      },
      "source": [
        "# create a variable to predict 'x' months out into the future\n",
        "\n",
        "future_months = 25\n",
        "\n",
        "# create a new column (target) shifted 'x' units/months up\n",
        "\n",
        "df['Prediction'] = df[['Close']].shift(-future_months)\n",
        "df.head(30)"
      ],
      "execution_count": null,
      "outputs": [
        {
          "output_type": "execute_result",
          "data": {
            "text/html": [
              "<div>\n",
              "<style scoped>\n",
              "    .dataframe tbody tr th:only-of-type {\n",
              "        vertical-align: middle;\n",
              "    }\n",
              "\n",
              "    .dataframe tbody tr th {\n",
              "        vertical-align: top;\n",
              "    }\n",
              "\n",
              "    .dataframe thead th {\n",
              "        text-align: right;\n",
              "    }\n",
              "</style>\n",
              "<table border=\"1\" class=\"dataframe\">\n",
              "  <thead>\n",
              "    <tr style=\"text-align: right;\">\n",
              "      <th></th>\n",
              "      <th>Close</th>\n",
              "      <th>Prediction</th>\n",
              "    </tr>\n",
              "  </thead>\n",
              "  <tbody>\n",
              "    <tr>\n",
              "      <th>0</th>\n",
              "      <td>12.46</td>\n",
              "      <td>36.99</td>\n",
              "    </tr>\n",
              "    <tr>\n",
              "      <th>1</th>\n",
              "      <td>13.42</td>\n",
              "      <td>41.36</td>\n",
              "    </tr>\n",
              "    <tr>\n",
              "      <th>2</th>\n",
              "      <td>13.30</td>\n",
              "      <td>43.48</td>\n",
              "    </tr>\n",
              "    <tr>\n",
              "      <th>3</th>\n",
              "      <td>12.99</td>\n",
              "      <td>46.18</td>\n",
              "    </tr>\n",
              "    <tr>\n",
              "      <th>4</th>\n",
              "      <td>13.41</td>\n",
              "      <td>49.81</td>\n",
              "    </tr>\n",
              "    <tr>\n",
              "      <th>5</th>\n",
              "      <td>13.71</td>\n",
              "      <td>50.54</td>\n",
              "    </tr>\n",
              "    <tr>\n",
              "      <th>6</th>\n",
              "      <td>15.33</td>\n",
              "      <td>49.42</td>\n",
              "    </tr>\n",
              "    <tr>\n",
              "      <th>7</th>\n",
              "      <td>16.12</td>\n",
              "      <td>33.75</td>\n",
              "    </tr>\n",
              "    <tr>\n",
              "      <th>8</th>\n",
              "      <td>20.08</td>\n",
              "      <td>34.06</td>\n",
              "    </tr>\n",
              "    <tr>\n",
              "      <th>9</th>\n",
              "      <td>19.49</td>\n",
              "      <td>31.13</td>\n",
              "    </tr>\n",
              "    <tr>\n",
              "      <th>10</th>\n",
              "      <td>18.03</td>\n",
              "      <td>22.85</td>\n",
              "    </tr>\n",
              "    <tr>\n",
              "      <th>11</th>\n",
              "      <td>15.62</td>\n",
              "      <td>25.45</td>\n",
              "    </tr>\n",
              "    <tr>\n",
              "      <th>12</th>\n",
              "      <td>16.16</td>\n",
              "      <td>26.83</td>\n",
              "    </tr>\n",
              "    <tr>\n",
              "      <th>13</th>\n",
              "      <td>17.84</td>\n",
              "      <td>24.13</td>\n",
              "    </tr>\n",
              "    <tr>\n",
              "      <th>14</th>\n",
              "      <td>18.46</td>\n",
              "      <td>13.58</td>\n",
              "    </tr>\n",
              "    <tr>\n",
              "      <th>15</th>\n",
              "      <td>22.78</td>\n",
              "      <td>12.26</td>\n",
              "    </tr>\n",
              "    <tr>\n",
              "      <th>16</th>\n",
              "      <td>25.32</td>\n",
              "      <td>15.03</td>\n",
              "    </tr>\n",
              "    <tr>\n",
              "      <th>17</th>\n",
              "      <td>26.97</td>\n",
              "      <td>12.24</td>\n",
              "    </tr>\n",
              "    <tr>\n",
              "      <th>18</th>\n",
              "      <td>30.16</td>\n",
              "      <td>10.26</td>\n",
              "    </tr>\n",
              "    <tr>\n",
              "      <th>19</th>\n",
              "      <td>28.63</td>\n",
              "      <td>9.98</td>\n",
              "    </tr>\n",
              "    <tr>\n",
              "      <th>20</th>\n",
              "      <td>28.14</td>\n",
              "      <td>15.45</td>\n",
              "    </tr>\n",
              "    <tr>\n",
              "      <th>21</th>\n",
              "      <td>30.31</td>\n",
              "      <td>25.12</td>\n",
              "    </tr>\n",
              "    <tr>\n",
              "      <th>22</th>\n",
              "      <td>33.51</td>\n",
              "      <td>29.68</td>\n",
              "    </tr>\n",
              "    <tr>\n",
              "      <th>23</th>\n",
              "      <td>35.98</td>\n",
              "      <td>31.93</td>\n",
              "    </tr>\n",
              "    <tr>\n",
              "      <th>24</th>\n",
              "      <td>37.93</td>\n",
              "      <td>33.45</td>\n",
              "    </tr>\n",
              "    <tr>\n",
              "      <th>25</th>\n",
              "      <td>36.99</td>\n",
              "      <td>40.99</td>\n",
              "    </tr>\n",
              "    <tr>\n",
              "      <th>26</th>\n",
              "      <td>41.36</td>\n",
              "      <td>47.31</td>\n",
              "    </tr>\n",
              "    <tr>\n",
              "      <th>27</th>\n",
              "      <td>43.48</td>\n",
              "      <td>50.57</td>\n",
              "    </tr>\n",
              "    <tr>\n",
              "      <th>28</th>\n",
              "      <td>46.18</td>\n",
              "      <td>53.41</td>\n",
              "    </tr>\n",
              "    <tr>\n",
              "      <th>29</th>\n",
              "      <td>49.81</td>\n",
              "      <td>49.84</td>\n",
              "    </tr>\n",
              "  </tbody>\n",
              "</table>\n",
              "</div>"
            ],
            "text/plain": [
              "    Close  Prediction\n",
              "0   12.46       36.99\n",
              "1   13.42       41.36\n",
              "2   13.30       43.48\n",
              "3   12.99       46.18\n",
              "4   13.41       49.81\n",
              "5   13.71       50.54\n",
              "6   15.33       49.42\n",
              "7   16.12       33.75\n",
              "8   20.08       34.06\n",
              "9   19.49       31.13\n",
              "10  18.03       22.85\n",
              "11  15.62       25.45\n",
              "12  16.16       26.83\n",
              "13  17.84       24.13\n",
              "14  18.46       13.58\n",
              "15  22.78       12.26\n",
              "16  25.32       15.03\n",
              "17  26.97       12.24\n",
              "18  30.16       10.26\n",
              "19  28.63        9.98\n",
              "20  28.14       15.45\n",
              "21  30.31       25.12\n",
              "22  33.51       29.68\n",
              "23  35.98       31.93\n",
              "24  37.93       33.45\n",
              "25  36.99       40.99\n",
              "26  41.36       47.31\n",
              "27  43.48       50.57\n",
              "28  46.18       53.41\n",
              "29  49.81       49.84"
            ]
          },
          "metadata": {},
          "execution_count": 14
        }
      ]
    },
    {
      "cell_type": "code",
      "metadata": {
        "colab": {
          "base_uri": "https://localhost:8080/",
          "height": 973
        },
        "id": "rwxxtgh7oz0p",
        "outputId": "f4230c0a-0818-42e3-bdde-08022f3373c1"
      },
      "source": [
        "df.tail(30)"
      ],
      "execution_count": null,
      "outputs": [
        {
          "output_type": "execute_result",
          "data": {
            "text/html": [
              "<div>\n",
              "<style scoped>\n",
              "    .dataframe tbody tr th:only-of-type {\n",
              "        vertical-align: middle;\n",
              "    }\n",
              "\n",
              "    .dataframe tbody tr th {\n",
              "        vertical-align: top;\n",
              "    }\n",
              "\n",
              "    .dataframe thead th {\n",
              "        text-align: right;\n",
              "    }\n",
              "</style>\n",
              "<table border=\"1\" class=\"dataframe\">\n",
              "  <thead>\n",
              "    <tr style=\"text-align: right;\">\n",
              "      <th></th>\n",
              "      <th>Close</th>\n",
              "      <th>Prediction</th>\n",
              "    </tr>\n",
              "  </thead>\n",
              "  <tbody>\n",
              "    <tr>\n",
              "      <th>155</th>\n",
              "      <td>339.60</td>\n",
              "      <td>11.95</td>\n",
              "    </tr>\n",
              "    <tr>\n",
              "      <th>156</th>\n",
              "      <td>367.90</td>\n",
              "      <td>14.37</td>\n",
              "    </tr>\n",
              "    <tr>\n",
              "      <th>157</th>\n",
              "      <td>343.40</td>\n",
              "      <td>13.15</td>\n",
              "    </tr>\n",
              "    <tr>\n",
              "      <th>158</th>\n",
              "      <td>183.45</td>\n",
              "      <td>12.42</td>\n",
              "    </tr>\n",
              "    <tr>\n",
              "      <th>159</th>\n",
              "      <td>188.05</td>\n",
              "      <td>14.67</td>\n",
              "    </tr>\n",
              "    <tr>\n",
              "      <th>160</th>\n",
              "      <td>169.65</td>\n",
              "      <td>NaN</td>\n",
              "    </tr>\n",
              "    <tr>\n",
              "      <th>161</th>\n",
              "      <td>181.75</td>\n",
              "      <td>NaN</td>\n",
              "    </tr>\n",
              "    <tr>\n",
              "      <th>162</th>\n",
              "      <td>194.30</td>\n",
              "      <td>NaN</td>\n",
              "    </tr>\n",
              "    <tr>\n",
              "      <th>163</th>\n",
              "      <td>231.20</td>\n",
              "      <td>NaN</td>\n",
              "    </tr>\n",
              "    <tr>\n",
              "      <th>164</th>\n",
              "      <td>275.05</td>\n",
              "      <td>NaN</td>\n",
              "    </tr>\n",
              "    <tr>\n",
              "      <th>165</th>\n",
              "      <td>168.00</td>\n",
              "      <td>NaN</td>\n",
              "    </tr>\n",
              "    <tr>\n",
              "      <th>166</th>\n",
              "      <td>147.95</td>\n",
              "      <td>NaN</td>\n",
              "    </tr>\n",
              "    <tr>\n",
              "      <th>167</th>\n",
              "      <td>108.70</td>\n",
              "      <td>NaN</td>\n",
              "    </tr>\n",
              "    <tr>\n",
              "      <th>168</th>\n",
              "      <td>91.30</td>\n",
              "      <td>NaN</td>\n",
              "    </tr>\n",
              "    <tr>\n",
              "      <th>169</th>\n",
              "      <td>59.50</td>\n",
              "      <td>NaN</td>\n",
              "    </tr>\n",
              "    <tr>\n",
              "      <th>170</th>\n",
              "      <td>41.45</td>\n",
              "      <td>NaN</td>\n",
              "    </tr>\n",
              "    <tr>\n",
              "      <th>171</th>\n",
              "      <td>70.45</td>\n",
              "      <td>NaN</td>\n",
              "    </tr>\n",
              "    <tr>\n",
              "      <th>172</th>\n",
              "      <td>68.30</td>\n",
              "      <td>NaN</td>\n",
              "    </tr>\n",
              "    <tr>\n",
              "      <th>173</th>\n",
              "      <td>46.95</td>\n",
              "      <td>NaN</td>\n",
              "    </tr>\n",
              "    <tr>\n",
              "      <th>174</th>\n",
              "      <td>39.20</td>\n",
              "      <td>NaN</td>\n",
              "    </tr>\n",
              "    <tr>\n",
              "      <th>175</th>\n",
              "      <td>34.55</td>\n",
              "      <td>NaN</td>\n",
              "    </tr>\n",
              "    <tr>\n",
              "      <th>176</th>\n",
              "      <td>22.45</td>\n",
              "      <td>NaN</td>\n",
              "    </tr>\n",
              "    <tr>\n",
              "      <th>177</th>\n",
              "      <td>27.95</td>\n",
              "      <td>NaN</td>\n",
              "    </tr>\n",
              "    <tr>\n",
              "      <th>178</th>\n",
              "      <td>26.85</td>\n",
              "      <td>NaN</td>\n",
              "    </tr>\n",
              "    <tr>\n",
              "      <th>179</th>\n",
              "      <td>25.60</td>\n",
              "      <td>NaN</td>\n",
              "    </tr>\n",
              "    <tr>\n",
              "      <th>180</th>\n",
              "      <td>11.95</td>\n",
              "      <td>NaN</td>\n",
              "    </tr>\n",
              "    <tr>\n",
              "      <th>181</th>\n",
              "      <td>14.37</td>\n",
              "      <td>NaN</td>\n",
              "    </tr>\n",
              "    <tr>\n",
              "      <th>182</th>\n",
              "      <td>13.15</td>\n",
              "      <td>NaN</td>\n",
              "    </tr>\n",
              "    <tr>\n",
              "      <th>183</th>\n",
              "      <td>12.42</td>\n",
              "      <td>NaN</td>\n",
              "    </tr>\n",
              "    <tr>\n",
              "      <th>184</th>\n",
              "      <td>14.67</td>\n",
              "      <td>NaN</td>\n",
              "    </tr>\n",
              "  </tbody>\n",
              "</table>\n",
              "</div>"
            ],
            "text/plain": [
              "      Close  Prediction\n",
              "155  339.60       11.95\n",
              "156  367.90       14.37\n",
              "157  343.40       13.15\n",
              "158  183.45       12.42\n",
              "159  188.05       14.67\n",
              "160  169.65         NaN\n",
              "161  181.75         NaN\n",
              "162  194.30         NaN\n",
              "163  231.20         NaN\n",
              "164  275.05         NaN\n",
              "165  168.00         NaN\n",
              "166  147.95         NaN\n",
              "167  108.70         NaN\n",
              "168   91.30         NaN\n",
              "169   59.50         NaN\n",
              "170   41.45         NaN\n",
              "171   70.45         NaN\n",
              "172   68.30         NaN\n",
              "173   46.95         NaN\n",
              "174   39.20         NaN\n",
              "175   34.55         NaN\n",
              "176   22.45         NaN\n",
              "177   27.95         NaN\n",
              "178   26.85         NaN\n",
              "179   25.60         NaN\n",
              "180   11.95         NaN\n",
              "181   14.37         NaN\n",
              "182   13.15         NaN\n",
              "183   12.42         NaN\n",
              "184   14.67         NaN"
            ]
          },
          "metadata": {},
          "execution_count": 15
        }
      ]
    },
    {
      "cell_type": "code",
      "metadata": {
        "id": "SSSRgZNzozyC",
        "colab": {
          "base_uri": "https://localhost:8080/"
        },
        "outputId": "10a4c790-bc71-4f97-a111-af843ba4a6fc"
      },
      "source": [
        "# Create the feature dataset (X) and convert it to numpy array and remove the last 'x' months/units\n",
        "\n",
        "X = np.array(df.drop(['Prediction'], 1))[:-future_months]\n",
        "print(X)"
      ],
      "execution_count": null,
      "outputs": [
        {
          "output_type": "stream",
          "name": "stdout",
          "text": [
            "[[ 12.46]\n",
            " [ 13.42]\n",
            " [ 13.3 ]\n",
            " [ 12.99]\n",
            " [ 13.41]\n",
            " [ 13.71]\n",
            " [ 15.33]\n",
            " [ 16.12]\n",
            " [ 20.08]\n",
            " [ 19.49]\n",
            " [ 18.03]\n",
            " [ 15.62]\n",
            " [ 16.16]\n",
            " [ 17.84]\n",
            " [ 18.46]\n",
            " [ 22.78]\n",
            " [ 25.32]\n",
            " [ 26.97]\n",
            " [ 30.16]\n",
            " [ 28.63]\n",
            " [ 28.14]\n",
            " [ 30.31]\n",
            " [ 33.51]\n",
            " [ 35.98]\n",
            " [ 37.93]\n",
            " [ 36.99]\n",
            " [ 41.36]\n",
            " [ 43.48]\n",
            " [ 46.18]\n",
            " [ 49.81]\n",
            " [ 50.54]\n",
            " [ 49.42]\n",
            " [ 33.75]\n",
            " [ 34.06]\n",
            " [ 31.13]\n",
            " [ 22.85]\n",
            " [ 25.45]\n",
            " [ 26.83]\n",
            " [ 24.13]\n",
            " [ 13.58]\n",
            " [ 12.26]\n",
            " [ 15.03]\n",
            " [ 12.24]\n",
            " [ 10.26]\n",
            " [  9.98]\n",
            " [ 15.45]\n",
            " [ 25.12]\n",
            " [ 29.68]\n",
            " [ 31.93]\n",
            " [ 33.45]\n",
            " [ 40.99]\n",
            " [ 47.31]\n",
            " [ 50.57]\n",
            " [ 53.41]\n",
            " [ 49.84]\n",
            " [ 47.32]\n",
            " [ 50.97]\n",
            " [ 57.1 ]\n",
            " [ 57.57]\n",
            " [ 53.83]\n",
            " [ 58.99]\n",
            " [ 62.22]\n",
            " [ 70.3 ]\n",
            " [ 71.86]\n",
            " [ 61.21]\n",
            " [ 62.54]\n",
            " [ 52.59]\n",
            " [ 51.29]\n",
            " [ 61.98]\n",
            " [ 61.02]\n",
            " [ 60.07]\n",
            " [ 62.38]\n",
            " [ 62.13]\n",
            " [ 55.61]\n",
            " [ 54.5 ]\n",
            " [ 62.9 ]\n",
            " [ 54.49]\n",
            " [ 47.72]\n",
            " [ 65.99]\n",
            " [ 69.14]\n",
            " [ 73.46]\n",
            " [ 70.07]\n",
            " [ 66.02]\n",
            " [ 67.83]\n",
            " [ 72.85]\n",
            " [ 65.97]\n",
            " [ 76.44]\n",
            " [ 82.29]\n",
            " [ 88.48]\n",
            " [ 92.84]\n",
            " [104.41]\n",
            " [ 94.5 ]\n",
            " [ 85.71]\n",
            " [100.28]\n",
            " [ 97.49]\n",
            " [ 92.2 ]\n",
            " [ 64.76]\n",
            " [ 48.65]\n",
            " [ 57.5 ]\n",
            " [ 73.76]\n",
            " [ 73.74]\n",
            " [ 74.02]\n",
            " [ 61.59]\n",
            " [ 60.95]\n",
            " [ 82.7 ]\n",
            " [ 88.14]\n",
            " [113.89]\n",
            " [108.38]\n",
            " [108.21]\n",
            " [114.33]\n",
            " [111.7 ]\n",
            " [136.83]\n",
            " [142.08]\n",
            " [154.57]\n",
            " [172.5 ]\n",
            " [172.55]\n",
            " [163.31]\n",
            " [167.96]\n",
            " [176.52]\n",
            " [168.6 ]\n",
            " [165.74]\n",
            " [137.9 ]\n",
            " [145.92]\n",
            " [151.82]\n",
            " [153.3 ]\n",
            " [145.23]\n",
            " [149.38]\n",
            " [137.67]\n",
            " [172.91]\n",
            " [188.73]\n",
            " [206.39]\n",
            " [221.3 ]\n",
            " [243.44]\n",
            " [272.56]\n",
            " [250.85]\n",
            " [253.52]\n",
            " [234.28]\n",
            " [231.26]\n",
            " [279.1 ]\n",
            " [290.56]\n",
            " [309.82]\n",
            " [326.14]\n",
            " [286.38]\n",
            " [292.37]\n",
            " [361.96]\n",
            " [351.15]\n",
            " [350.  ]\n",
            " [314.35]\n",
            " [306.8 ]\n",
            " [315.05]\n",
            " [354.45]\n",
            " [322.25]\n",
            " [304.9 ]\n",
            " [362.05]\n",
            " [346.2 ]\n",
            " [339.6 ]\n",
            " [367.9 ]\n",
            " [343.4 ]\n",
            " [183.45]\n",
            " [188.05]]\n"
          ]
        }
      ]
    },
    {
      "cell_type": "code",
      "metadata": {
        "colab": {
          "base_uri": "https://localhost:8080/"
        },
        "id": "sdAFzs30ozvw",
        "outputId": "c8905d46-4325-4292-d7b0-9add4e617ad4"
      },
      "source": [
        "# Create target data set (y) and convert into numpy array and get all of target values except the last x units\n",
        "\n",
        "y = np.array(df['Prediction'])[:-future_months]\n",
        "print(y)"
      ],
      "execution_count": null,
      "outputs": [
        {
          "output_type": "stream",
          "name": "stdout",
          "text": [
            "[ 36.99  41.36  43.48  46.18  49.81  50.54  49.42  33.75  34.06  31.13\n",
            "  22.85  25.45  26.83  24.13  13.58  12.26  15.03  12.24  10.26   9.98\n",
            "  15.45  25.12  29.68  31.93  33.45  40.99  47.31  50.57  53.41  49.84\n",
            "  47.32  50.97  57.1   57.57  53.83  58.99  62.22  70.3   71.86  61.21\n",
            "  62.54  52.59  51.29  61.98  61.02  60.07  62.38  62.13  55.61  54.5\n",
            "  62.9   54.49  47.72  65.99  69.14  73.46  70.07  66.02  67.83  72.85\n",
            "  65.97  76.44  82.29  88.48  92.84 104.41  94.5   85.71 100.28  97.49\n",
            "  92.2   64.76  48.65  57.5   73.76  73.74  74.02  61.59  60.95  82.7\n",
            "  88.14 113.89 108.38 108.21 114.33 111.7  136.83 142.08 154.57 172.5\n",
            " 172.55 163.31 167.96 176.52 168.6  165.74 137.9  145.92 151.82 153.3\n",
            " 145.23 149.38 137.67 172.91 188.73 206.39 221.3  243.44 272.56 250.85\n",
            " 253.52 234.28 231.26 279.1  290.56 309.82 326.14 286.38 292.37 361.96\n",
            " 351.15 350.   314.35 306.8  315.05 354.45 322.25 304.9  362.05 346.2\n",
            " 339.6  367.9  343.4  183.45 188.05 169.65 181.75 194.3  231.2  275.05\n",
            " 168.   147.95 108.7   91.3   59.5   41.45  70.45  68.3   46.95  39.2\n",
            "  34.55  22.45  27.95  26.85  25.6   11.95  14.37  13.15  12.42  14.67]\n"
          ]
        }
      ]
    },
    {
      "cell_type": "code",
      "metadata": {
        "id": "AZXfXm-qoztJ"
      },
      "source": [
        "# split the data into 75% training and 25% testing\n",
        "\n",
        "X_train, X_test, y_train, y_test = train_test_split(X, y, test_size = 0.25)"
      ],
      "execution_count": null,
      "outputs": []
    },
    {
      "cell_type": "code",
      "metadata": {
        "id": "xXnseB3Mozqx"
      },
      "source": [
        "# create the models\n",
        "\n",
        "#decsion tree regressor\n",
        "tree = DecisionTreeRegressor().fit(X_train, y_train)\n",
        "\n",
        "# linear reg model\n",
        "lr = LinearRegression().fit(X_train, y_train)\n",
        "\n",
        "# random forest\n",
        "\n",
        "rf = RandomForestRegressor().fit(X_train, y_train)"
      ],
      "execution_count": null,
      "outputs": []
    },
    {
      "cell_type": "code",
      "metadata": {
        "colab": {
          "base_uri": "https://localhost:8080/"
        },
        "id": "XLIsrCgsozob",
        "outputId": "b4c853c3-be4f-4961-ed3e-9081002e8e92"
      },
      "source": [
        "# get last x rows of the feature dataset\n",
        "\n",
        "x_future = df.drop(['Prediction'], 1)[:-future_months]\n",
        "x_future = x_future.tail(future_months)\n",
        "x_future = np.array(x_future)\n",
        "x_future"
      ],
      "execution_count": null,
      "outputs": [
        {
          "output_type": "execute_result",
          "data": {
            "text/plain": [
              "array([[253.52],\n",
              "       [234.28],\n",
              "       [231.26],\n",
              "       [279.1 ],\n",
              "       [290.56],\n",
              "       [309.82],\n",
              "       [326.14],\n",
              "       [286.38],\n",
              "       [292.37],\n",
              "       [361.96],\n",
              "       [351.15],\n",
              "       [350.  ],\n",
              "       [314.35],\n",
              "       [306.8 ],\n",
              "       [315.05],\n",
              "       [354.45],\n",
              "       [322.25],\n",
              "       [304.9 ],\n",
              "       [362.05],\n",
              "       [346.2 ],\n",
              "       [339.6 ],\n",
              "       [367.9 ],\n",
              "       [343.4 ],\n",
              "       [183.45],\n",
              "       [188.05]])"
            ]
          },
          "metadata": {},
          "execution_count": 20
        }
      ]
    },
    {
      "cell_type": "code",
      "metadata": {
        "colab": {
          "base_uri": "https://localhost:8080/"
        },
        "id": "773yTB90ozmG",
        "outputId": "4edb6542-82eb-4726-967e-597dd7448d74"
      },
      "source": [
        "# show model tree prediciton\n",
        "\n",
        "tree_prediction = tree.predict(x_future)\n",
        "print(tree_prediction)\n",
        "print()\n",
        "\n",
        "lr_prediction = lr.predict(x_future)\n",
        "print(lr_prediction)\n",
        "\n",
        "rf_prediction = rf.predict(x_future)\n",
        "print(rf_prediction)"
      ],
      "execution_count": null,
      "outputs": [
        {
          "output_type": "stream",
          "name": "stdout",
          "text": [
            "[169.65 181.75 181.75 231.2   91.3   46.95  22.45 108.7   91.3   59.5\n",
            "  41.45  70.45  68.3   46.95  68.3   34.55  22.45  27.95  59.5   25.6\n",
            "  11.95  59.5   25.6   12.42  14.67]\n",
            "\n",
            "[162.71125824 157.24351429 156.38527174 169.98074318 173.2375179\n",
            " 178.71094558 183.3488656  172.04961927 173.75189506 193.528418\n",
            " 190.45636436 190.12955014 179.99830941 177.85270302 180.1972398\n",
            " 191.39417907 182.24338099 177.3127491  193.55399477 189.04964229\n",
            " 187.17401287 195.21648448 188.25392072 142.79832589 144.10558276]\n",
            "[175.136  207.969  207.969  204.974  104.756   50.422   36.233  113.445\n",
            "  96.626   51.741   48.344   56.701   59.968   46.2685  56.048   39.171\n",
            "  37.633   37.5285  51.741   38.98    19.0725  51.741   24.63    58.6636\n",
            "  60.0058]\n"
          ]
        }
      ]
    },
    {
      "cell_type": "code",
      "metadata": {
        "colab": {
          "base_uri": "https://localhost:8080/",
          "height": 513
        },
        "id": "tAKA5Xz5ozjw",
        "outputId": "60be2e1d-da9d-496c-8b1a-8e23e7fec46f"
      },
      "source": [
        "# visualize the data\n",
        "\n",
        "predictions = tree_prediction\n",
        "\n",
        "valid = df[X.shape[0]:]\n",
        "valid['Predictions'] = predictions\n",
        "plt.figure(figsize = (16, 8))\n",
        "plt.title('Decision Tree Model')\n",
        "plt.xlabel('Months')\n",
        "plt.ylabel('Close Price')\n",
        "plt.plot(df['Close'])\n",
        "plt.plot(valid[['Close', 'Predictions']])\n",
        "plt.legend(['Orig', 'Val', 'Pred'])\n",
        "plt.show()"
      ],
      "execution_count": null,
      "outputs": [
        {
          "output_type": "display_data",
          "data": {
            "image/png": "[encoded data removed]",
            "text/plain": [
              "<Figure size 1152x576 with 1 Axes>"
            ]
          },
          "metadata": {
            "needs_background": "light"
          }
        }
      ]
    },
    {
      "cell_type": "code",
      "metadata": {
        "colab": {
          "base_uri": "https://localhost:8080/",
          "height": 513
        },
        "id": "qbO7BU4Fozg9",
        "outputId": "7efe063c-0e24-461d-c6ba-3cd3d45cba29"
      },
      "source": [
        "# visualize the data\n",
        "\n",
        "predictions = lr_prediction\n",
        "\n",
        "valid = df[X.shape[0]:]\n",
        "valid['Predictions'] = predictions\n",
        "plt.figure(figsize = (16, 8))\n",
        "plt.title('Linear Regression Model')\n",
        "plt.xlabel('Months')\n",
        "plt.ylabel('Close Price')\n",
        "plt.plot(df['Close'])\n",
        "plt.plot(valid[['Close', 'Predictions']])\n",
        "plt.legend(['Orig', 'Val', 'Pred'])\n",
        "plt.show()"
      ],
      "execution_count": null,
      "outputs": [
        {
          "output_type": "display_data",
          "data": {
            "image/png": "[encoded data removed]",
            "text/plain": [
              "<Figure size 1152x576 with 1 Axes>"
            ]
          },
          "metadata": {
            "needs_background": "light"
          }
        }
      ]
    },
    {
      "cell_type": "code",
      "metadata": {
        "colab": {
          "base_uri": "https://localhost:8080/",
          "height": 513
        },
        "id": "_hdEUnHXozeS",
        "outputId": "a1c87c75-44d2-497a-b8d1-70e34fc0b33d"
      },
      "source": [
        "predictions = rf_prediction\n",
        "\n",
        "valid = df[X.shape[0]:]\n",
        "valid['Predictions'] = predictions\n",
        "plt.figure(figsize = (16, 8))\n",
        "plt.title('Random Forest Model')\n",
        "plt.xlabel('Months')\n",
        "plt.ylabel('Close Price')\n",
        "plt.plot(df['Close'])\n",
        "plt.plot(valid[['Close', 'Predictions']])\n",
        "plt.legend(['Orig', 'Val', 'Pred'])\n",
        "plt.show()"
      ],
      "execution_count": null,
      "outputs": [
        {
          "output_type": "display_data",
          "data": {
            "image/png": "[encoded data removed]",
            "text/plain": [
              "<Figure size 1152x576 with 1 Axes>"
            ]
          },
          "metadata": {
            "needs_background": "light"
          }
        }
      ]
    },
    {
      "cell_type": "code",
      "metadata": {
        "id": "6appIfmjozX6"
      },
      "source": [
        "# In the above codes, we used the future prices against present price to train the model. Then we input the variables in three different models\n",
        "# Linear regression gave the worst results. But Decision tree and random forest gave better results\n",
        "# This is something which is more relevant in a real life prediction situation"
      ],
      "execution_count": null,
      "outputs": []
    },
    {
      "cell_type": "code",
      "metadata": {
        "id": "YRIyAvzhozKw"
      },
      "source": [
        ""
      ],
      "execution_count": null,
      "outputs": []
    },
    {
      "cell_type": "code",
      "metadata": {
        "colab": {
          "base_uri": "https://localhost:8080/",
          "height": 282
        },
        "id": "QiSLN5hRXQHj",
        "outputId": "b58cf856-848c-4a5e-f84c-4d04b10f135f"
      },
      "source": [
        "df.plot.line()"
      ],
      "execution_count": null,
      "outputs": [
        {
          "output_type": "execute_result",
          "data": {
            "text/plain": [
              "<matplotlib.axes._subplots.AxesSubplot at 0x7f868b0c8350>"
            ]
          },
          "metadata": {},
          "execution_count": 13
        },
        {
          "output_type": "display_data",
          "data": {
            "image/png": "[encoded data removed]",
            "text/plain": [
              "<Figure size 432x288 with 1 Axes>"
            ]
          },
          "metadata": {
            "needs_background": "light"
          }
        }
      ]
    },
    {
      "cell_type": "code",
      "metadata": {
        "id": "t0dOgPEmfCLD"
      },
      "source": [
        "X = df[['High','Low','Open']]\n",
        "y = df[['Close']]"
      ],
      "execution_count": null,
      "outputs": []
    },
    {
      "cell_type": "code",
      "metadata": {
        "colab": {
          "base_uri": "https://localhost:8080/",
          "height": 446
        },
        "id": "hNTpLaUyUHzz",
        "outputId": "c7120e39-5944-423f-8517-f82635bc6cba"
      },
      "source": [
        "# checking the distribution of the dependent variable\n",
        "\n",
        "plt.figure(figsize=(7,7))\n",
        "sns.distplot(y,color=\"y\")"
      ],
      "execution_count": null,
      "outputs": [
        {
          "output_type": "execute_result",
          "data": {
            "text/plain": [
              "<matplotlib.axes._subplots.AxesSubplot at 0x7f868b06bc10>"
            ]
          },
          "metadata": {},
          "execution_count": 17
        },
        {
          "output_type": "display_data",
          "data": {
            "image/png": "[encoded data removed]",
            "text/plain": [
              "<Figure size 504x504 with 1 Axes>"
            ]
          },
          "metadata": {
            "needs_background": "light"
          }
        }
      ]
    },
    {
      "cell_type": "code",
      "metadata": {
        "colab": {
          "base_uri": "https://localhost:8080/",
          "height": 446
        },
        "id": "KCvqAswlVgrS",
        "outputId": "79c3623f-1a2b-4da4-e29d-f01b67cec0fb"
      },
      "source": [
        "# applying log transformation\n",
        "\n",
        "plt.figure(figsize=(7,7))\n",
        "sns.distplot(np.log10(y),color=\"y\")"
      ],
      "execution_count": null,
      "outputs": [
        {
          "output_type": "execute_result",
          "data": {
            "text/plain": [
              "<matplotlib.axes._subplots.AxesSubplot at 0x7f868869e350>"
            ]
          },
          "metadata": {},
          "execution_count": 20
        },
        {
          "output_type": "display_data",
          "data": {
            "image/png": "[encoded data removed]",
            "text/plain": [
              "<Figure size 504x504 with 1 Axes>"
            ]
          },
          "metadata": {
            "needs_background": "light"
          }
        }
      ]
    },
    {
      "cell_type": "code",
      "metadata": {
        "id": "h86xU93efS_-"
      },
      "source": [
        "X_train,X_test,y_train,y_test = train_test_split(X,y,random_state=25)"
      ],
      "execution_count": null,
      "outputs": []
    },
    {
      "cell_type": "code",
      "metadata": {
        "colab": {
          "base_uri": "https://localhost:8080/"
        },
        "id": "po1Jt4FLfWbh",
        "outputId": "54be02fe-aa92-4f63-e6e4-92e3c0bbc943"
      },
      "source": [
        "X_train.shape"
      ],
      "execution_count": null,
      "outputs": [
        {
          "output_type": "execute_result",
          "data": {
            "text/plain": [
              "(138, 3)"
            ]
          },
          "metadata": {},
          "execution_count": 66
        }
      ]
    },
    {
      "cell_type": "code",
      "metadata": {
        "id": "kci7tBp9jWbd"
      },
      "source": [
        "scaler = MinMaxScaler()\n",
        "X_train = scaler.fit_transform(X_train)\n",
        "X_test = scaler.transform(X_test)"
      ],
      "execution_count": null,
      "outputs": []
    },
    {
      "cell_type": "code",
      "metadata": {
        "colab": {
          "base_uri": "https://localhost:8080/"
        },
        "id": "tbGNVSmHfY3k",
        "outputId": "5239431a-8578-49c6-cadb-b5f4ccbdeb27"
      },
      "source": [
        "model = LinearRegression()\n",
        "model"
      ],
      "execution_count": null,
      "outputs": [
        {
          "output_type": "execute_result",
          "data": {
            "text/plain": [
              "LinearRegression(copy_X=True, fit_intercept=True, n_jobs=None, normalize=False)"
            ]
          },
          "metadata": {},
          "execution_count": 68
        }
      ]
    },
    {
      "cell_type": "code",
      "metadata": {
        "colab": {
          "base_uri": "https://localhost:8080/"
        },
        "id": "L8JJb1E9fbQ4",
        "outputId": "f1cc45a7-345e-4266-9725-916153001f63"
      },
      "source": [
        "model.fit(X_train,y_train)"
      ],
      "execution_count": null,
      "outputs": [
        {
          "output_type": "execute_result",
          "data": {
            "text/plain": [
              "LinearRegression(copy_X=True, fit_intercept=True, n_jobs=None, normalize=False)"
            ]
          },
          "metadata": {},
          "execution_count": 69
        }
      ]
    },
    {
      "cell_type": "code",
      "metadata": {
        "colab": {
          "base_uri": "https://localhost:8080/"
        },
        "id": "wE7J4IMKfeCL",
        "outputId": "6185d5af-4730-492f-90a8-4335239074a5"
      },
      "source": [
        "y_predict = model.predict(X_test)\n",
        "y_predict"
      ],
      "execution_count": null,
      "outputs": [
        {
          "output_type": "execute_result",
          "data": {
            "text/plain": [
              "array([[ 48.30808793],\n",
              "       [108.30520334],\n",
              "       [ 30.81676789],\n",
              "       [345.99658617],\n",
              "       [299.54004613],\n",
              "       [249.46950533],\n",
              "       [353.65169696],\n",
              "       [318.29689626],\n",
              "       [140.78982589],\n",
              "       [ 35.65002676],\n",
              "       [ 69.84614155],\n",
              "       [ 45.95883433],\n",
              "       [ 62.36628198],\n",
              "       [ 58.02324731],\n",
              "       [ 54.38624985],\n",
              "       [ 11.71702596],\n",
              "       [ 60.32121001],\n",
              "       [ 74.13589786],\n",
              "       [ 39.95305923],\n",
              "       [ 62.50899171],\n",
              "       [ 48.85079151],\n",
              "       [ 74.09531853],\n",
              "       [ 14.44095362],\n",
              "       [ 90.5233311 ],\n",
              "       [341.53306757],\n",
              "       [ 47.33189128],\n",
              "       [ 17.01190007],\n",
              "       [322.31387853],\n",
              "       [ 40.08265174],\n",
              "       [ 14.70823888],\n",
              "       [167.26502505],\n",
              "       [118.27006599],\n",
              "       [134.8904143 ],\n",
              "       [ 17.92650184],\n",
              "       [ 65.25909043],\n",
              "       [ 14.82677276],\n",
              "       [ 54.31227191],\n",
              "       [ 33.68710415],\n",
              "       [ 36.93395824],\n",
              "       [ 56.47979654],\n",
              "       [ 18.67263356],\n",
              "       [ 69.95468214],\n",
              "       [ 51.38461136],\n",
              "       [ 20.15154623],\n",
              "       [162.00467593],\n",
              "       [314.94330449],\n",
              "       [ 32.89462574]])"
            ]
          },
          "metadata": {},
          "execution_count": 70
        }
      ]
    },
    {
      "cell_type": "code",
      "metadata": {
        "colab": {
          "base_uri": "https://localhost:8080/"
        },
        "id": "VQX3kHdMfhTk",
        "outputId": "5d7eca7e-3a16-4626-8f5d-47078c2e03a2"
      },
      "source": [
        "model.intercept_ # y intercept(c)"
      ],
      "execution_count": null,
      "outputs": [
        {
          "output_type": "execute_result",
          "data": {
            "text/plain": [
              "array([7.70518672])"
            ]
          },
          "metadata": {},
          "execution_count": 71
        }
      ]
    },
    {
      "cell_type": "code",
      "metadata": {
        "colab": {
          "base_uri": "https://localhost:8080/"
        },
        "id": "pJbADE0wfk2d",
        "outputId": "27c0c05e-5886-4a79-83f7-93b035323604"
      },
      "source": [
        "model.coef_ # coefficient"
      ],
      "execution_count": null,
      "outputs": [
        {
          "output_type": "execute_result",
          "data": {
            "text/plain": [
              "array([[ 189.40044235,  345.21331565, -166.51702307]])"
            ]
          },
          "metadata": {},
          "execution_count": 72
        }
      ]
    },
    {
      "cell_type": "code",
      "metadata": {
        "colab": {
          "base_uri": "https://localhost:8080/"
        },
        "id": "nZ6RVK5FfnIr",
        "outputId": "9f8d9684-ebad-429a-b23d-f827ff15011b"
      },
      "source": [
        "r2_score(y_test,y_predict) # Without MinMax Scaler: 0.9967865783745083"
      ],
      "execution_count": null,
      "outputs": [
        {
          "output_type": "execute_result",
          "data": {
            "text/plain": [
              "0.9967865783745083"
            ]
          },
          "metadata": {},
          "execution_count": 73
        }
      ]
    },
    {
      "cell_type": "code",
      "metadata": {
        "colab": {
          "base_uri": "https://localhost:8080/"
        },
        "id": "UE-n_OR3fqNA",
        "outputId": "654f3e82-dc4b-4b2e-a639-64ea1e2c473b"
      },
      "source": [
        "mean_absolute_error(y_test,y_predict)"
      ],
      "execution_count": null,
      "outputs": [
        {
          "output_type": "execute_result",
          "data": {
            "text/plain": [
              "3.7812700694460943"
            ]
          },
          "metadata": {},
          "execution_count": 74
        }
      ]
    },
    {
      "cell_type": "code",
      "metadata": {
        "colab": {
          "base_uri": "https://localhost:8080/"
        },
        "id": "MEVJ2Eu9ft3Y",
        "outputId": "05e0e599-92a3-4c2b-bf03-5544b6a4e345"
      },
      "source": [
        "mean_squared_error(y_test,y_predict)"
      ],
      "execution_count": null,
      "outputs": [
        {
          "output_type": "execute_result",
          "data": {
            "text/plain": [
              "35.62538681522711"
            ]
          },
          "metadata": {},
          "execution_count": 75
        }
      ]
    },
    {
      "cell_type": "code",
      "metadata": {
        "id": "20woxqphfv9i"
      },
      "source": [
        ""
      ],
      "execution_count": null,
      "outputs": []
    }
  ]
}